{
  "cells": [
    {
      "cell_type": "code",
      "execution_count": 175,
      "metadata": {
        "colab": {
          "base_uri": "https://localhost:8080/"
        },
        "id": "NvcMQzFckjXd",
        "outputId": "b4424a9f-ffb3-4cfb-fd5b-9fbad8c29b4f"
      },
      "outputs": [],
      "source": [
        "# Data Citation:\n",
        "# F. Maxwell Harper and Joseph A. Konstan. 2015. The MovieLens Datasets: History and Context. ACM Transactions on \n",
        "# Interactive Intelligent Systems (TiiS) 5, 4: 19:1–19:19. <https://doi.org/10.1145/2827872>\n",
        "\n",
        "# ! curl http://files.grouplens.org/datasets/movielens/ml-latest-small.zip -o ml-latest-small.zip"
      ]
    },
    {
      "cell_type": "code",
      "execution_count": 176,
      "metadata": {
        "id": "68BdqtQikvVE"
      },
      "outputs": [],
      "source": [
        "# import zipfile\n",
        "# with zipfile.ZipFile('ml-latest-small.zip', 'r') as zip_ref:\n",
        "#     zip_ref.extractall('data')"
      ]
    },
    {
      "cell_type": "code",
      "execution_count": 177,
      "metadata": {
        "id": "OmO7jmrpkvZf"
      },
      "outputs": [],
      "source": [
        "# import the dataset\n",
        "import pandas as pd\n",
        "movies_df = pd.read_csv('movie.csv')\n",
        "ratings_df = pd.read_csv('generated_ratings.csv', delimiter=';')"
      ]
    },
    {
      "cell_type": "code",
      "execution_count": 178,
      "metadata": {
        "colab": {
          "base_uri": "https://localhost:8080/"
        },
        "id": "Q-KRTGaskvdn",
        "outputId": "ec89b4c8-ee99-407c-ce07-8d9ddcf0f0b1"
      },
      "outputs": [
        {
          "name": "stdout",
          "output_type": "stream",
          "text": [
            "The dimensions of movies dataframe are: (100, 2) \n",
            "The dimensions of ratings dataframe are: (18809, 3)\n"
          ]
        }
      ],
      "source": [
        "print('The dimensions of movies dataframe are:', movies_df.shape,'\\nThe dimensions of ratings dataframe are:', ratings_df.shape)"
      ]
    },
    {
      "cell_type": "code",
      "execution_count": 179,
      "metadata": {
        "colab": {
          "base_uri": "https://localhost:8080/",
          "height": 195
        },
        "id": "ALPeuAiBk0mM",
        "outputId": "8afc063a-7b73-4cdf-b624-cf36ecfa231a"
      },
      "outputs": [
        {
          "data": {
            "text/html": [
              "<div>\n",
              "<style scoped>\n",
              "    .dataframe tbody tr th:only-of-type {\n",
              "        vertical-align: middle;\n",
              "    }\n",
              "\n",
              "    .dataframe tbody tr th {\n",
              "        vertical-align: top;\n",
              "    }\n",
              "\n",
              "    .dataframe thead th {\n",
              "        text-align: right;\n",
              "    }\n",
              "</style>\n",
              "<table border=\"1\" class=\"dataframe\">\n",
              "  <thead>\n",
              "    <tr style=\"text-align: right;\">\n",
              "      <th></th>\n",
              "      <th>id</th>\n",
              "      <th>genres</th>\n",
              "    </tr>\n",
              "  </thead>\n",
              "  <tbody>\n",
              "    <tr>\n",
              "      <th>0</th>\n",
              "      <td>media-1</td>\n",
              "      <td>Action|Thriller</td>\n",
              "    </tr>\n",
              "    <tr>\n",
              "      <th>1</th>\n",
              "      <td>media-10</td>\n",
              "      <td>Adventure|Comedy|Fantasy|Horror</td>\n",
              "    </tr>\n",
              "    <tr>\n",
              "      <th>2</th>\n",
              "      <td>media-100</td>\n",
              "      <td>Comedy|Drama|Family</td>\n",
              "    </tr>\n",
              "    <tr>\n",
              "      <th>3</th>\n",
              "      <td>media-101</td>\n",
              "      <td>Action &amp; Adventure|Crime|Drama</td>\n",
              "    </tr>\n",
              "    <tr>\n",
              "      <th>4</th>\n",
              "      <td>media-102</td>\n",
              "      <td>Action &amp; Adventure|Animation|Comedy|Sci-Fi &amp; F...</td>\n",
              "    </tr>\n",
              "  </tbody>\n",
              "</table>\n",
              "</div>"
            ],
            "text/plain": [
              "          id                                             genres\n",
              "0    media-1                                    Action|Thriller\n",
              "1   media-10                    Adventure|Comedy|Fantasy|Horror\n",
              "2  media-100                                Comedy|Drama|Family\n",
              "3  media-101                     Action & Adventure|Crime|Drama\n",
              "4  media-102  Action & Adventure|Animation|Comedy|Sci-Fi & F..."
            ]
          },
          "execution_count": 179,
          "metadata": {},
          "output_type": "execute_result"
        }
      ],
      "source": [
        "# Take a look at movies_df\n",
        "# movies_df.rename(columns={'id': 'movie_id'}, inplace=True)\n",
        "# movies_df['movie_id'] = movies_df['movie_id'].str.replace('media-', '', regex=False)\n",
        "\n",
        "# # Si quieres convertirlo a enteros\n",
        "# movies_df['movie_id'] = movies_df['movie_id'].astype(int)\n",
        "movies_df.head()"
      ]
    },
    {
      "cell_type": "code",
      "execution_count": 180,
      "metadata": {
        "colab": {
          "base_uri": "https://localhost:8080/",
          "height": 195
        },
        "id": "KzPoqkWbk0oh",
        "outputId": "762a17ed-9513-48f8-f1ef-0c1b63347624"
      },
      "outputs": [
        {
          "data": {
            "text/html": [
              "<div>\n",
              "<style scoped>\n",
              "    .dataframe tbody tr th:only-of-type {\n",
              "        vertical-align: middle;\n",
              "    }\n",
              "\n",
              "    .dataframe tbody tr th {\n",
              "        vertical-align: top;\n",
              "    }\n",
              "\n",
              "    .dataframe thead th {\n",
              "        text-align: right;\n",
              "    }\n",
              "</style>\n",
              "<table border=\"1\" class=\"dataframe\">\n",
              "  <thead>\n",
              "    <tr style=\"text-align: right;\">\n",
              "      <th></th>\n",
              "      <th>user_id</th>\n",
              "      <th>movie_id</th>\n",
              "      <th>rating</th>\n",
              "    </tr>\n",
              "  </thead>\n",
              "  <tbody>\n",
              "    <tr>\n",
              "      <th>0</th>\n",
              "      <td>1000</td>\n",
              "      <td>media-59</td>\n",
              "      <td>4.0</td>\n",
              "    </tr>\n",
              "    <tr>\n",
              "      <th>1</th>\n",
              "      <td>1000</td>\n",
              "      <td>media-167</td>\n",
              "      <td>4.0</td>\n",
              "    </tr>\n",
              "    <tr>\n",
              "      <th>2</th>\n",
              "      <td>1000</td>\n",
              "      <td>media-354</td>\n",
              "      <td>4.0</td>\n",
              "    </tr>\n",
              "    <tr>\n",
              "      <th>3</th>\n",
              "      <td>1000</td>\n",
              "      <td>media-346</td>\n",
              "      <td>4.0</td>\n",
              "    </tr>\n",
              "    <tr>\n",
              "      <th>4</th>\n",
              "      <td>1000</td>\n",
              "      <td>media-366</td>\n",
              "      <td>4.0</td>\n",
              "    </tr>\n",
              "  </tbody>\n",
              "</table>\n",
              "</div>"
            ],
            "text/plain": [
              "   user_id   movie_id  rating\n",
              "0     1000   media-59     4.0\n",
              "1     1000  media-167     4.0\n",
              "2     1000  media-354     4.0\n",
              "3     1000  media-346     4.0\n",
              "4     1000  media-366     4.0"
            ]
          },
          "execution_count": 180,
          "metadata": {},
          "output_type": "execute_result"
        }
      ],
      "source": [
        "# Take a look at ratings_df\n",
        "# ratings_df['movie_id'] = ratings_df['movie_id'].str.replace('media-', '', regex=False)\n",
        "\n",
        "# # Si quieres convertirlo a enteros\n",
        "# ratings_df['movie_id'] = ratings_df['movie_id'].astype(int)\n",
        "ratings_df.head()"
      ]
    },
    {
      "cell_type": "code",
      "execution_count": 181,
      "metadata": {},
      "outputs": [
        {
          "data": {
            "text/plain": [
              "array(['media-59', 'media-167', 'media-354', 'media-346', 'media-366',\n",
              "       'media-355', 'media-350', 'media-418', 'media-218', 'media-486',\n",
              "       'media-365', 'media-293', 'media-33', 'media-174', 'media-448',\n",
              "       'media-82', 'media-241', 'media-197', 'media-81', 'media-46',\n",
              "       'media-188', 'media-412', 'media-245', 'media-166', 'media-401',\n",
              "       'media-296', 'media-323', 'media-159', 'media-317', 'media-375',\n",
              "       'media-210', 'media-313', 'media-509', 'media-332', 'media-503',\n",
              "       'media-362', 'media-351', 'media-483', 'media-180', 'media-290',\n",
              "       'media-6', 'media-13', 'media-363', 'media-150', 'media-70',\n",
              "       'media-336', 'media-519', 'media-328', 'media-498', 'media-261',\n",
              "       'media-357', 'media-206', 'media-480', 'media-55', 'media-331',\n",
              "       'media-339', 'media-138', 'media-303', 'media-481', 'media-352',\n",
              "       'media-67', 'media-252', 'media-455', 'media-257', 'media-286',\n",
              "       'media-14', 'media-26', 'media-315', 'media-476', 'media-262',\n",
              "       'media-400', 'media-432', 'media-250', 'media-356', 'media-511',\n",
              "       'media-282', 'media-514', 'media-301', 'media-224', 'media-330',\n",
              "       'media-390', 'media-305', 'media-53', 'media-182', 'media-340',\n",
              "       'media-452', 'media-50', 'media-173', 'media-136', 'media-78',\n",
              "       'media-255', 'media-441', 'media-421', 'media-502', 'media-40',\n",
              "       'media-279', 'media-251', 'media-396', 'media-11', 'media-233',\n",
              "       'media-118', 'media-230', 'media-311', 'media-18', 'media-152',\n",
              "       'media-457', 'media-397', 'media-415', 'media-73', 'media-202',\n",
              "       'media-345', 'media-134', 'media-369', 'media-142', 'media-9',\n",
              "       'media-94', 'media-43', 'media-316', 'media-144', 'media-71',\n",
              "       'media-185', 'media-47', 'media-72', 'media-259', 'media-299',\n",
              "       'media-475', 'media-388', 'media-402', 'media-89', 'media-389',\n",
              "       'media-21', 'media-42', 'media-271', 'media-63', 'media-183',\n",
              "       'media-278', 'media-434', 'media-246', 'media-326', 'media-297',\n",
              "       'media-440', 'media-232', 'media-471', 'media-307', 'media-321',\n",
              "       'media-107', 'media-228', 'media-143', 'media-487', 'media-513',\n",
              "       'media-58', 'media-496', 'media-510', 'media-109', 'media-135',\n",
              "       'media-184', 'media-450', 'media-171', 'media-484', 'media-467',\n",
              "       'media-28', 'media-90', 'media-264', 'media-289', 'media-380',\n",
              "       'media-318', 'media-406', 'media-41', 'media-508', 'media-211',\n",
              "       'media-474', 'media-465', 'media-92', 'media-10', 'media-74',\n",
              "       'media-416', 'media-461', 'media-488', 'media-208', 'media-215',\n",
              "       'media-429', 'media-187', 'media-239', 'media-203', 'media-65',\n",
              "       'media-276', 'media-374', 'media-56', 'media-348', 'media-254',\n",
              "       'media-35', 'media-428', 'media-382', 'media-249', 'media-238',\n",
              "       'media-458', 'media-482', 'media-231', 'media-244', 'media-309',\n",
              "       'media-387', 'media-442', 'media-405', 'media-462', 'media-470',\n",
              "       'media-226', 'media-155', 'media-281', 'media-192', 'media-117',\n",
              "       'media-124', 'media-398', 'media-7', 'media-115', 'media-253',\n",
              "       'media-37', 'media-468', 'media-384', 'media-68', 'media-298',\n",
              "       'media-308', 'media-338', 'media-378', 'media-469', 'media-83',\n",
              "       'media-121', 'media-236', 'media-334', 'media-411', 'media-104',\n",
              "       'media-96', 'media-477', 'media-285', 'media-15', 'media-126',\n",
              "       'media-500', 'media-87', 'media-310', 'media-372', 'media-439',\n",
              "       'media-364', 'media-295', 'media-16', 'media-379', 'media-157',\n",
              "       'media-312', 'media-205', 'media-213', 'media-229', 'media-408',\n",
              "       'media-294', 'media-466', 'media-403', 'media-516', 'media-413',\n",
              "       'media-38', 'media-443', 'media-499', 'media-216', 'media-219',\n",
              "       'media-39', 'media-113', 'media-99', 'media-141', 'media-376',\n",
              "       'media-447', 'media-518', 'media-84', 'media-60', 'media-57',\n",
              "       'media-122', 'media-221', 'media-270', 'media-512', 'media-220',\n",
              "       'media-494', 'media-189', 'media-288', 'media-304', 'media-243',\n",
              "       'media-360', 'media-168', 'media-170', 'media-156', 'media-370',\n",
              "       'media-337', 'media-495', 'media-181', 'media-240', 'media-324',\n",
              "       'media-391', 'media-386', 'media-430', 'media-266', 'media-204',\n",
              "       'media-277', 'media-23', 'media-235', 'media-130', 'media-52',\n",
              "       'media-105', 'media-394', 'media-319', 'media-409', 'media-492',\n",
              "       'media-162', 'media-178', 'media-399', 'media-129', 'media-424',\n",
              "       'media-66', 'media-148', 'media-425', 'media-2', 'media-248',\n",
              "       'media-172', 'media-371', 'media-300', 'media-145', 'media-342',\n",
              "       'media-417', 'media-133', 'media-161', 'media-274', 'media-199',\n",
              "       'media-120', 'media-163', 'media-22', 'media-256', 'media-265',\n",
              "       'media-25', 'media-8', 'media-393', 'media-88', 'media-414',\n",
              "       'media-193', 'media-507', 'media-335', 'media-347', 'media-272',\n",
              "       'media-175', 'media-459', 'media-132', 'media-320', 'media-85',\n",
              "       'media-423', 'media-76', 'media-280', 'media-291', 'media-34',\n",
              "       'media-322', 'media-472', 'media-169', 'media-36', 'media-209',\n",
              "       'media-61', 'media-106', 'media-460', 'media-504', 'media-93',\n",
              "       'media-385', 'media-191', 'media-195', 'media-225', 'media-222',\n",
              "       'media-201', 'media-125', 'media-420', 'media-263', 'media-190',\n",
              "       'media-275', 'media-485', 'media-501', 'media-422', 'media-45',\n",
              "       'media-196', 'media-292', 'media-98', 'media-287', 'media-123',\n",
              "       'media-267', 'media-176', 'media-367', 'media-427', 'media-433',\n",
              "       'media-212', 'media-101', 'media-505', 'media-165', 'media-426',\n",
              "       'media-361', 'media-451', 'media-17', 'media-116', 'media-343',\n",
              "       'media-438', 'media-146', 'media-302', 'media-269', 'media-186',\n",
              "       'media-5', 'media-112', 'media-383', 'media-493', 'media-114',\n",
              "       'media-431', 'media-478', 'media-200', 'media-237', 'media-149',\n",
              "       'media-234', 'media-160', 'media-198', 'media-359', 'media-436',\n",
              "       'media-473', 'media-392', 'media-100', 'media-75', 'media-30',\n",
              "       'media-445', 'media-49', 'media-177', 'media-12', 'media-19',\n",
              "       'media-449', 'media-140', 'media-368', 'media-407', 'media-490',\n",
              "       'media-395', 'media-329', 'media-97', 'media-91', 'media-344',\n",
              "       'media-456', 'media-463', 'media-54', 'media-102', 'media-491',\n",
              "       'media-283', 'media-314', 'media-48', 'media-151', 'media-273',\n",
              "       'media-333', 'media-64', 'media-444', 'media-86', 'media-217',\n",
              "       'media-381', 'media-258', 'media-95', 'media-139', 'media-3',\n",
              "       'media-31', 'media-341', 'media-404', 'media-306', 'media-51',\n",
              "       'media-131', 'media-77', 'media-20', 'media-179', 'media-325',\n",
              "       'media-464', 'media-32', 'media-194', 'media-517', 'media-435',\n",
              "       'media-358', 'media-62', 'media-164', 'media-446', 'media-153',\n",
              "       'media-207', 'media-377', 'media-80', 'media-44', 'media-158',\n",
              "       'media-373', 'media-24', 'media-223', 'media-110', 'media-506',\n",
              "       'media-353', 'media-127', 'media-419', 'media-453', 'media-137',\n",
              "       'media-247', 'media-260', 'media-29', 'media-515', 'media-128',\n",
              "       'media-479', 'media-27', 'media-147', 'media-154', 'media-79',\n",
              "       'media-214', 'media-489', 'media-497', 'media-119', 'media-103',\n",
              "       'media-327', 'media-227', 'media-111', 'media-242', 'media-437',\n",
              "       'media-108', 'media-268', 'media-410', 'media-4', 'media-454',\n",
              "       'media-349', 'media-284', 'media-69'], dtype=object)"
            ]
          },
          "execution_count": 181,
          "metadata": {},
          "output_type": "execute_result"
        }
      ],
      "source": [
        "ratings_df['movie_id'].unique()"
      ]
    },
    {
      "cell_type": "code",
      "execution_count": 182,
      "metadata": {
        "colab": {
          "base_uri": "https://localhost:8080/"
        },
        "id": "2TUaWt96k0q7",
        "outputId": "afd13baa-d03e-40c9-9dcf-f8c4cbda08d0"
      },
      "outputs": [
        {
          "name": "stdout",
          "output_type": "stream",
          "text": [
            "Number of unique users: 2907\n",
            "Number of unique movies: 518\n",
            "The full rating matrix will have: 1505826 elements.\n",
            "----------\n",
            "Number of ratings: 18809\n",
            "Therefore:  1.2490818992366979 % of the matrix is filled.\n",
            "We have an incredibly sparse matrix to work with here.\n",
            "And... as you can imagine, as the number of users and products grow, the number of elements will increase by n*2\n",
            "You are going to need a lot of memory to work with global scale... storing a full matrix in memory would be a challenge.\n",
            "One advantage here is that matrix factorization can realize the rating matrix implicitly, thus we don't need all the data\n"
          ]
        }
      ],
      "source": [
        "# Movie ID to movie name mapping\n",
        "movie_names = movies_df.set_index('id')['genres'].to_dict()\n",
        "n_users = len(ratings_df.user_id.unique())\n",
        "n_items = len(ratings_df.movie_id.unique())\n",
        "print(\"Number of unique users:\", n_users)\n",
        "print(\"Number of unique movies:\", n_items)\n",
        "print(\"The full rating matrix will have:\", n_users*n_items, 'elements.')\n",
        "print('----------')\n",
        "print(\"Number of ratings:\", len(ratings_df))\n",
        "print(\"Therefore: \", len(ratings_df) / (n_users*n_items) * 100, '% of the matrix is filled.')\n",
        "print(\"We have an incredibly sparse matrix to work with here.\")\n",
        "print(\"And... as you can imagine, as the number of users and products grow, the number of elements will increase by n*2\")\n",
        "print(\"You are going to need a lot of memory to work with global scale... storing a full matrix in memory would be a challenge.\")\n",
        "print(\"One advantage here is that matrix factorization can realize the rating matrix implicitly, thus we don't need all the data\")"
      ]
    },
    {
      "cell_type": "code",
      "execution_count": 183,
      "metadata": {
        "id": "YnkTvMsCk0tY"
      },
      "outputs": [],
      "source": [
        "import torch\n",
        "import numpy as np\n",
        "from torch.autograd import Variable\n",
        "from tqdm.notebook import tqdm  # Forma correcta en tqdm >= 5.0.0\n",
        "\n",
        "class MatrixFactorization(torch.nn.Module):\n",
        "    def __init__(self, n_users, n_items, n_factors=20):\n",
        "        super().__init__()\n",
        "        # create user embeddings\n",
        "        print(\"n_users:\", n_users)\n",
        "        print(\"n_items:\", n_items)\n",
        "        self.user_factors = torch.nn.Embedding(n_users, n_factors) # think of this as a lookup table for the input.\n",
        "        # create item embeddings\n",
        "        self.item_factors = torch.nn.Embedding(n_items, n_factors) # think of this as a lookup table for the input.\n",
        "        self.user_factors.weight.data.uniform_(0, 0.05)\n",
        "        self.item_factors.weight.data.uniform_(0, 0.05)\n",
        "        \n",
        "    def forward(self, data):\n",
        "        # matrix multiplication\n",
        "        users, items = data[:,0], data[:,1]\n",
        "        return (self.user_factors(users)*self.item_factors(items)).sum(1)\n",
        "    # def forward(self, user, item):\n",
        "    # \t# matrix multiplication\n",
        "    #     return (self.user_factors(user)*self.item_factors(item)).sum(1)\n",
        "    \n",
        "    def predict(self, user, item):\n",
        "        return self.forward(user, item)"
      ]
    },
    {
      "cell_type": "code",
      "execution_count": 184,
      "metadata": {
        "id": "LTlGvz7sk0v2"
      },
      "outputs": [],
      "source": [
        "# Creating the dataloader (necessary for PyTorch)\n",
        "from torch.utils.data.dataset import Dataset\n",
        "from torch.utils.data import DataLoader # package that helps transform your data to machine learning readiness\n",
        "\n",
        "# Note: This isn't 'good' practice, in a MLops sense but we'll roll with this since the data is already loaded in memory.\n",
        "class Loader(Dataset):\n",
        "    def __init__(self):\n",
        "        self.ratings = ratings_df.copy()\n",
        "        \n",
        "        # Extract all user IDs and movie IDs\n",
        "        users = ratings_df.user_id.unique()\n",
        "        movies = ratings_df.movie_id.unique()\n",
        "        \n",
        "        #--- Producing new continuous IDs for users and movies ---\n",
        "        \n",
        "        # Unique values : index\n",
        "        self.userid2idx = {o:i for i,o in enumerate(users)}\n",
        "        self.movieid2idx = {o:i for i,o in enumerate(movies)}\n",
        "        \n",
        "        # Obtained continuous ID for users and movies\n",
        "        self.idx2userid = {i:o for o,i in self.userid2idx.items()}\n",
        "        self.idx2movieid = {i:o for o,i in self.movieid2idx.items()}\n",
        "        \n",
        "        # return the id from the indexed values as noted in the lambda function down below.\n",
        "        self.ratings['user_id'] = self.ratings['user_id'].map(self.userid2idx)\n",
        "        self.ratings['movie_id'] = self.ratings['movie_id'].map(self.movieid2idx)\n",
        "        \n",
        "        \n",
        "        self.x = self.ratings[['user_id', 'movie_id']].values\n",
        "        self.y = self.ratings['rating'].values\n",
        "        self.x, self.y = torch.tensor(self.x), torch.tensor(self.y) # Transforms the data to tensors (ready for torch models.)\n",
        "\n",
        "    def __getitem__(self, index):\n",
        "        return (self.x[index], self.y[index])\n",
        "\n",
        "    def __len__(self):\n",
        "        return len(self.ratings)"
      ]
    },
    {
      "cell_type": "code",
      "execution_count": 185,
      "metadata": {
        "colab": {
          "base_uri": "https://localhost:8080/"
        },
        "id": "J6MK3Ymmk0yi",
        "outputId": "50e960e6-ccc7-4852-98cf-55144f7848c7"
      },
      "outputs": [
        {
          "name": "stdout",
          "output_type": "stream",
          "text": [
            "Is running on GPU: True\n",
            "n_users: 2907\n",
            "n_items: 518\n"
          ]
        }
      ],
      "source": [
        "num_epochs = 128\n",
        "cuda = torch.cuda.is_available()\n",
        "print(\"Is running on GPU:\", cuda)\n",
        "\n",
        "model = MatrixFactorization(n_users, n_items, n_factors=8)\n",
        "# print(model)\n",
        "# for name, param in model.named_parameters():\n",
        "    # if param.requires_grad:\n",
        "        # print(name, param.data)\n",
        "# GPU enable if you have a GPU...\n",
        "import os\n",
        "os.environ[\"CUDA_LAUNCH_BLOCKING\"] = \"1\"\n",
        "if cuda:\n",
        "    model = model.cuda()\n",
        "\n",
        "# MSE loss\n",
        "loss_fn = torch.nn.MSELoss()\n",
        "\n",
        "# ADAM optimizier\n",
        "optimizer = torch.optim.Adam(model.parameters(), lr=1e-3)\n",
        "\n",
        "# Train data\n",
        "train_set = Loader()\n",
        "train_loader = DataLoader(train_set, 128, shuffle=True)"
      ]
    },
    {
      "cell_type": "code",
      "execution_count": 186,
      "metadata": {
        "colab": {
          "base_uri": "https://localhost:8080/",
          "height": 1000,
          "referenced_widgets": [
            "3c1765cabeaf4d75a130311ddc4591a1",
            "6db170b52f5a4f72afd083a3a9c157aa",
            "69073fd458234bba829af9731b4fce1c",
            "88151edb53134487b95f6bcbcd7fd2b4",
            "9b185906b1dc465e93b9f058a1fec47a",
            "20b4738815cd467dba2946031d6d9027",
            "c279f9a0a0fe498b9db167a237517e6e",
            "005a499c40bd407ca20c2492d9c4f170"
          ]
        },
        "id": "8fIDIdStk000",
        "outputId": "84caf390-d372-4d82-a045-cbf12a9c8cce"
      },
      "outputs": [
        {
          "name": "stdout",
          "output_type": "stream",
          "text": [
            "iter #0 Loss: 14.790775292584685\n",
            "iter #1 Loss: 13.902810038352499\n",
            "iter #2 Loss: 12.23547311380607\n",
            "iter #3 Loss: 10.102597612912962\n",
            "iter #4 Loss: 7.9440888450259255\n",
            "iter #5 Loss: 6.110254320157629\n",
            "iter #6 Loss: 4.750041204244912\n",
            "iter #7 Loss: 3.819229078941605\n",
            "iter #8 Loss: 3.1842520220750044\n",
            "iter #9 Loss: 2.725449033334953\n",
            "iter #10 Loss: 2.372621524901617\n",
            "iter #11 Loss: 2.0881518133643535\n",
            "iter #12 Loss: 1.8521503250615126\n",
            "iter #13 Loss: 1.6554460557950597\n",
            "iter #14 Loss: 1.4904512150757978\n",
            "iter #15 Loss: 1.3525751241210366\n",
            "iter #16 Loss: 1.2375991936443613\n",
            "iter #17 Loss: 1.1418493815830775\n",
            "iter #18 Loss: 1.063467680596981\n",
            "iter #19 Loss: 0.9988051997561033\n",
            "iter #20 Loss: 0.9453864393591069\n",
            "iter #21 Loss: 0.9016910479182288\n",
            "iter #22 Loss: 0.8660371777962665\n",
            "iter #23 Loss: 0.8368113819433718\n",
            "iter #24 Loss: 0.8123559392228419\n",
            "iter #25 Loss: 0.7925153930171006\n",
            "iter #26 Loss: 0.7763454901928805\n",
            "iter #27 Loss: 0.7624316162803546\n",
            "iter #28 Loss: 0.7512610060017125\n",
            "iter #29 Loss: 0.7415696536602617\n",
            "iter #30 Loss: 0.7339984044736746\n",
            "iter #31 Loss: 0.7272112191128893\n",
            "iter #32 Loss: 0.7217093144549804\n",
            "iter #33 Loss: 0.716898386170264\n",
            "iter #34 Loss: 0.7132726761759544\n",
            "iter #35 Loss: 0.7098946636225901\n",
            "iter #36 Loss: 0.7065937482580846\n",
            "iter #37 Loss: 0.7045314453897022\n",
            "iter #38 Loss: 0.7021211815529129\n",
            "iter #39 Loss: 0.7007607444613969\n",
            "iter #40 Loss: 0.6991725712000918\n",
            "iter #41 Loss: 0.6973423341504571\n",
            "iter #42 Loss: 0.6964936651745621\n",
            "iter #43 Loss: 0.6959199003216361\n",
            "iter #44 Loss: 0.6945832438614904\n",
            "iter #45 Loss: 0.6939680598625521\n",
            "iter #46 Loss: 0.6934231673779131\n",
            "iter #47 Loss: 0.6925970715324895\n",
            "iter #48 Loss: 0.6922321307415865\n",
            "iter #49 Loss: 0.6918131220502918\n",
            "iter #50 Loss: 0.6916251056859283\n",
            "iter #51 Loss: 0.6908891580137265\n",
            "iter #52 Loss: 0.690386583204983\n",
            "iter #53 Loss: 0.6905001685732887\n",
            "iter #54 Loss: 0.6899344138547677\n",
            "iter #55 Loss: 0.6897725022974468\n",
            "iter #56 Loss: 0.6894917212375978\n",
            "iter #57 Loss: 0.6889522756849017\n",
            "iter #58 Loss: 0.6890291624328717\n",
            "iter #59 Loss: 0.6884469898785053\n",
            "iter #60 Loss: 0.6885477186871224\n",
            "iter #61 Loss: 0.6883402184969714\n",
            "iter #62 Loss: 0.6878000084234743\n",
            "iter #63 Loss: 0.6876338912921698\n",
            "iter #64 Loss: 0.686962708729465\n",
            "iter #65 Loss: 0.68731782387714\n",
            "iter #66 Loss: 0.686716209058048\n",
            "iter #67 Loss: 0.6862730193300312\n",
            "iter #68 Loss: 0.686021243836604\n",
            "iter #69 Loss: 0.6855651728149985\n",
            "iter #70 Loss: 0.6853259870795165\n",
            "iter #71 Loss: 0.6845370040458887\n",
            "iter #72 Loss: 0.6844781653410723\n",
            "iter #73 Loss: 0.6836186892726794\n",
            "iter #74 Loss: 0.682976071729141\n",
            "iter #75 Loss: 0.6825590713494489\n",
            "iter #76 Loss: 0.681880881591719\n",
            "iter #77 Loss: 0.6809866910889035\n",
            "iter #78 Loss: 0.6800287986288265\n",
            "iter #79 Loss: 0.6787842532404426\n",
            "iter #80 Loss: 0.6779799051836234\n",
            "iter #81 Loss: 0.6766651826245444\n",
            "iter #82 Loss: 0.675686681554431\n",
            "iter #83 Loss: 0.674162219779021\n",
            "iter #84 Loss: 0.6725130997547487\n",
            "iter #85 Loss: 0.6709131864057917\n",
            "iter #86 Loss: 0.6689522347482694\n",
            "iter #87 Loss: 0.66694877666681\n",
            "iter #88 Loss: 0.664694280851455\n",
            "iter #89 Loss: 0.6622048525177703\n",
            "iter #90 Loss: 0.6592553896563393\n",
            "iter #91 Loss: 0.656219156015487\n",
            "iter #92 Loss: 0.6532958454015304\n",
            "iter #93 Loss: 0.6503276352574225\n",
            "iter #94 Loss: 0.6462870183445159\n",
            "iter #95 Loss: 0.6423012685208094\n",
            "iter #96 Loss: 0.6380327074300676\n",
            "iter #97 Loss: 0.6335785194319121\n",
            "iter #98 Loss: 0.6288082222549283\n",
            "iter #99 Loss: 0.623401973928724\n",
            "iter #100 Loss: 0.6180930543108051\n",
            "iter #101 Loss: 0.6126548785741638\n",
            "iter #102 Loss: 0.6064990468982125\n",
            "iter #103 Loss: 0.6003990811961037\n",
            "iter #104 Loss: 0.5941571007375004\n",
            "iter #105 Loss: 0.587204943708822\n",
            "iter #106 Loss: 0.5803396105766296\n",
            "iter #107 Loss: 0.573592530626829\n",
            "iter #108 Loss: 0.5664376208976823\n",
            "iter #109 Loss: 0.5593901017085224\n",
            "iter #110 Loss: 0.5518049763984421\n",
            "iter #111 Loss: 0.5445954363767792\n",
            "iter #112 Loss: 0.5371900194761704\n",
            "iter #113 Loss: 0.5300468109091934\n",
            "iter #114 Loss: 0.5228469673873616\n",
            "iter #115 Loss: 0.5150653494864094\n",
            "iter #116 Loss: 0.5081966053060933\n",
            "iter #117 Loss: 0.5008682855943434\n",
            "iter #118 Loss: 0.4938614998950439\n",
            "iter #119 Loss: 0.48697241694748805\n",
            "iter #120 Loss: 0.480104333081213\n",
            "iter #121 Loss: 0.47323242884103944\n",
            "iter #122 Loss: 0.4664277819549145\n",
            "iter #123 Loss: 0.46020143778145717\n",
            "iter #124 Loss: 0.45337002942351257\n",
            "iter #125 Loss: 0.4469306359485704\n",
            "iter #126 Loss: 0.440670896752351\n",
            "iter #127 Loss: 0.4343459778497008\n"
          ]
        }
      ],
      "source": [
        "for it in range(num_epochs):\n",
        "    losses = []\n",
        "    for x, y in train_loader:\n",
        "         if cuda:\n",
        "            x, y = x.cuda(), y.cuda()\n",
        "            optimizer.zero_grad()\n",
        "            outputs = model(x)\n",
        "            \n",
        "            loss = loss_fn(outputs.squeeze(), y.type(torch.float32))\n",
        "            losses.append(loss.item())\n",
        "            loss.backward()\n",
        "            optimizer.step()\n",
        "    print(\"iter #{}\".format(it), \"Loss:\", sum(losses) / len(losses))"
      ]
    },
    {
      "cell_type": "code",
      "execution_count": 187,
      "metadata": {
        "colab": {
          "base_uri": "https://localhost:8080/"
        },
        "id": "zs_GVbSYmhib",
        "outputId": "d4a5a7f6-f2a6-4d08-9083-84a2812c3f45"
      },
      "outputs": [
        {
          "name": "stdout",
          "output_type": "stream",
          "text": [
            "user_factors.weight tensor([[0.5972, 0.3477, 0.3726,  ..., 0.6238, 0.3266, 0.5852],\n",
            "        [0.5359, 0.4651, 0.3966,  ..., 0.4370, 0.4678, 0.5769],\n",
            "        [0.3198, 0.5234, 0.4740,  ..., 0.3458, 0.5517, 0.3536],\n",
            "        ...,\n",
            "        [0.3859, 0.4440, 0.4003,  ..., 0.3656, 0.3545, 0.3268],\n",
            "        [0.5450, 0.5222, 0.5570,  ..., 0.4422, 0.5217, 0.5036],\n",
            "        [0.6266, 0.3852, 0.5718,  ..., 0.4631, 0.4725, 0.4763]],\n",
            "       device='cuda:0')\n",
            "item_factors.weight tensor([[1.0937, 2.0633, 0.0412,  ..., 0.1061, 1.1069, 0.4289],\n",
            "        [0.9284, 1.7505, 1.0515,  ..., 0.7088, 1.3743, 1.0537],\n",
            "        [1.7615, 0.1292, 0.7672,  ..., 0.9834, 0.6787, 1.4742],\n",
            "        ...,\n",
            "        [0.9681, 0.9672, 0.9728,  ..., 0.9306, 0.9604, 0.9212],\n",
            "        [0.9679, 0.9814, 1.0028,  ..., 1.0000, 0.9634, 0.9764],\n",
            "        [1.0463, 1.0869, 1.0374,  ..., 1.1072, 1.0807, 1.0674]],\n",
            "       device='cuda:0')\n"
          ]
        }
      ],
      "source": [
        "# By training the model, we will have tuned latent factors for movies and users.\n",
        "c = 0\n",
        "uw = 0\n",
        "iw = 0 \n",
        "for name, param in model.named_parameters():\n",
        "    if param.requires_grad:\n",
        "        print(name, param.data)\n",
        "        if c == 0:\n",
        "          uw = param.data\n",
        "          c +=1\n",
        "        else:\n",
        "          iw = param.data\n",
        "        #print('param_data', param_data)"
      ]
    },
    {
      "cell_type": "code",
      "execution_count": 188,
      "metadata": {
        "id": "IJgie01_p8k5"
      },
      "outputs": [],
      "source": [
        "trained_movie_embeddings = model.item_factors.weight.data.cpu().numpy()"
      ]
    },
    {
      "cell_type": "code",
      "execution_count": 189,
      "metadata": {
        "colab": {
          "base_uri": "https://localhost:8080/"
        },
        "id": "R-_tHZ_E_rub",
        "outputId": "cb97ce5d-7140-43fa-8ffa-7603a22eee2c"
      },
      "outputs": [
        {
          "data": {
            "text/plain": [
              "518"
            ]
          },
          "execution_count": 189,
          "metadata": {},
          "output_type": "execute_result"
        }
      ],
      "source": [
        "len(trained_movie_embeddings) # unique movie factor weights"
      ]
    },
    {
      "cell_type": "code",
      "execution_count": 190,
      "metadata": {
        "id": "bl9s4iqXy75q"
      },
      "outputs": [],
      "source": [
        "from sklearn.cluster import KMeans\n",
        "# Fit the clusters based on the movie weights\n",
        "kmeans = KMeans(n_clusters=10, random_state=0).fit(trained_movie_embeddings)"
      ]
    },
    {
      "cell_type": "code",
      "execution_count": 191,
      "metadata": {
        "colab": {
          "base_uri": "https://localhost:8080/"
        },
        "id": "8MDzp-9u-m5n",
        "outputId": "c6f77e4d-68d1-49c5-c022-25e80e99007d"
      },
      "outputs": [
        {
          "name": "stdout",
          "output_type": "stream",
          "text": [
            "Cluster #0\n",
            "\t media-366\n",
            "\t media-296\n",
            "\t media-167\n",
            "\t media-365\n",
            "\t media-345\n",
            "\t media-81\n",
            "\t media-298\n",
            "\t media-282\n",
            "\t media-315\n",
            "\t media-476\n",
            "Cluster #1\n",
            "\t media-339\n",
            "\t media-503\n",
            "\t media-354\n",
            "\t media-318\n",
            "\t media-352\n",
            "\t media-6\n",
            "\t media-406\n",
            "\t media-138\n",
            "\t media-293\n",
            "\t media-50\n",
            "Cluster #2\n",
            "\t media-241\n",
            "\t media-357\n",
            "\t media-351\n",
            "\t media-356\n",
            "\t media-511\n",
            "\t media-232\n",
            "\t media-415\n",
            "\t media-387\n",
            "\t media-96\n",
            "\t media-248\n",
            "Cluster #3\n",
            "\t media-346\n",
            "\t media-480\n",
            "\t media-323\n",
            "\t media-350\n",
            "\t media-519\n",
            "\t media-362\n",
            "\t media-471\n",
            "\t media-40\n",
            "\t media-130\n",
            "\t media-509\n",
            "Cluster #4\n",
            "\t media-355\n",
            "\t media-418\n",
            "Cluster #5\n",
            "\t media-238\n",
            "\t media-173\n",
            "\t media-266\n",
            "\t media-463\n",
            "\t media-458\n",
            "\t media-249\n",
            "\t media-334\n",
            "\t media-453\n",
            "\t media-154\n",
            "\t media-407\n",
            "Cluster #6\n",
            "\t media-448\n",
            "Cluster #7\n",
            "\t media-197\n",
            "Cluster #8\n",
            "\t media-412\n",
            "\t media-144\n",
            "\t media-312\n",
            "\t media-482\n",
            "\t media-478\n",
            "\t media-313\n",
            "\t media-397\n",
            "\t media-21\n",
            "\t media-508\n",
            "\t media-215\n",
            "Cluster #9\n",
            "\t media-59\n",
            "\t media-82\n"
          ]
        }
      ],
      "source": [
        "'''It can be seen here that the movies that are in the same cluster tend to have\n",
        "similar genres. Also note that the algorithm is unfamiliar with the movie name\n",
        "and only obtained the relationships by looking at the numbers representing how\n",
        "users have responded to the movie selections.'''\n",
        "for cluster in range(10):\n",
        "    print(\"Cluster #{}\".format(cluster))\n",
        "    movs = []\n",
        "    # Find movie indices belonging to the current cluster\n",
        "    for movidx in np.where(kmeans.labels_ == cluster)[0]:\n",
        "        movid = train_set.idx2movieid[movidx]\n",
        "        # Check how many ratings this movie has\n",
        "        rat_count = len(ratings_df.loc[ratings_df['movie_id'] == movid])\n",
        "        movs.append((movid, rat_count))\n",
        "    # Sort movies by rating count in descending order and print top 10\n",
        "    for mov in sorted(movs, key=lambda tup: tup[1], reverse=True)[:10]:\n",
        "        print(\"\\t\", mov[0])\n",
        "        "
      ]
    }
  ],
  "metadata": {
    "accelerator": "GPU",
    "colab": {
      "collapsed_sections": [],
      "name": "Recommendation_System.ipynb",
      "provenance": []
    },
    "kernelspec": {
      "display_name": "Python 3",
      "name": "python3"
    },
    "language_info": {
      "codemirror_mode": {
        "name": "ipython",
        "version": 3
      },
      "file_extension": ".py",
      "mimetype": "text/x-python",
      "name": "python",
      "nbconvert_exporter": "python",
      "pygments_lexer": "ipython3",
      "version": "3.10.0"
    },
    "widgets": {
      "application/vnd.jupyter.widget-state+json": {
        "005a499c40bd407ca20c2492d9c4f170": {
          "model_module": "@jupyter-widgets/base",
          "model_name": "LayoutModel",
          "state": {
            "_model_module": "@jupyter-widgets/base",
            "_model_module_version": "1.2.0",
            "_model_name": "LayoutModel",
            "_view_count": null,
            "_view_module": "@jupyter-widgets/base",
            "_view_module_version": "1.2.0",
            "_view_name": "LayoutView",
            "align_content": null,
            "align_items": null,
            "align_self": null,
            "border": null,
            "bottom": null,
            "display": null,
            "flex": null,
            "flex_flow": null,
            "grid_area": null,
            "grid_auto_columns": null,
            "grid_auto_flow": null,
            "grid_auto_rows": null,
            "grid_column": null,
            "grid_gap": null,
            "grid_row": null,
            "grid_template_areas": null,
            "grid_template_columns": null,
            "grid_template_rows": null,
            "height": null,
            "justify_content": null,
            "justify_items": null,
            "left": null,
            "margin": null,
            "max_height": null,
            "max_width": null,
            "min_height": null,
            "min_width": null,
            "object_fit": null,
            "object_position": null,
            "order": null,
            "overflow": null,
            "overflow_x": null,
            "overflow_y": null,
            "padding": null,
            "right": null,
            "top": null,
            "visibility": null,
            "width": null
          }
        },
        "20b4738815cd467dba2946031d6d9027": {
          "model_module": "@jupyter-widgets/base",
          "model_name": "LayoutModel",
          "state": {
            "_model_module": "@jupyter-widgets/base",
            "_model_module_version": "1.2.0",
            "_model_name": "LayoutModel",
            "_view_count": null,
            "_view_module": "@jupyter-widgets/base",
            "_view_module_version": "1.2.0",
            "_view_name": "LayoutView",
            "align_content": null,
            "align_items": null,
            "align_self": null,
            "border": null,
            "bottom": null,
            "display": null,
            "flex": null,
            "flex_flow": null,
            "grid_area": null,
            "grid_auto_columns": null,
            "grid_auto_flow": null,
            "grid_auto_rows": null,
            "grid_column": null,
            "grid_gap": null,
            "grid_row": null,
            "grid_template_areas": null,
            "grid_template_columns": null,
            "grid_template_rows": null,
            "height": null,
            "justify_content": null,
            "justify_items": null,
            "left": null,
            "margin": null,
            "max_height": null,
            "max_width": null,
            "min_height": null,
            "min_width": null,
            "object_fit": null,
            "object_position": null,
            "order": null,
            "overflow": null,
            "overflow_x": null,
            "overflow_y": null,
            "padding": null,
            "right": null,
            "top": null,
            "visibility": null,
            "width": null
          }
        },
        "3c1765cabeaf4d75a130311ddc4591a1": {
          "model_module": "@jupyter-widgets/controls",
          "model_name": "HBoxModel",
          "state": {
            "_dom_classes": [],
            "_model_module": "@jupyter-widgets/controls",
            "_model_module_version": "1.5.0",
            "_model_name": "HBoxModel",
            "_view_count": null,
            "_view_module": "@jupyter-widgets/controls",
            "_view_module_version": "1.5.0",
            "_view_name": "HBoxView",
            "box_style": "",
            "children": [
              "IPY_MODEL_69073fd458234bba829af9731b4fce1c",
              "IPY_MODEL_88151edb53134487b95f6bcbcd7fd2b4"
            ],
            "layout": "IPY_MODEL_6db170b52f5a4f72afd083a3a9c157aa"
          }
        },
        "69073fd458234bba829af9731b4fce1c": {
          "model_module": "@jupyter-widgets/controls",
          "model_name": "FloatProgressModel",
          "state": {
            "_dom_classes": [],
            "_model_module": "@jupyter-widgets/controls",
            "_model_module_version": "1.5.0",
            "_model_name": "FloatProgressModel",
            "_view_count": null,
            "_view_module": "@jupyter-widgets/controls",
            "_view_module_version": "1.5.0",
            "_view_name": "ProgressView",
            "bar_style": "success",
            "description": "100%",
            "description_tooltip": null,
            "layout": "IPY_MODEL_20b4738815cd467dba2946031d6d9027",
            "max": 128,
            "min": 0,
            "orientation": "horizontal",
            "style": "IPY_MODEL_9b185906b1dc465e93b9f058a1fec47a",
            "value": 128
          }
        },
        "6db170b52f5a4f72afd083a3a9c157aa": {
          "model_module": "@jupyter-widgets/base",
          "model_name": "LayoutModel",
          "state": {
            "_model_module": "@jupyter-widgets/base",
            "_model_module_version": "1.2.0",
            "_model_name": "LayoutModel",
            "_view_count": null,
            "_view_module": "@jupyter-widgets/base",
            "_view_module_version": "1.2.0",
            "_view_name": "LayoutView",
            "align_content": null,
            "align_items": null,
            "align_self": null,
            "border": null,
            "bottom": null,
            "display": null,
            "flex": null,
            "flex_flow": null,
            "grid_area": null,
            "grid_auto_columns": null,
            "grid_auto_flow": null,
            "grid_auto_rows": null,
            "grid_column": null,
            "grid_gap": null,
            "grid_row": null,
            "grid_template_areas": null,
            "grid_template_columns": null,
            "grid_template_rows": null,
            "height": null,
            "justify_content": null,
            "justify_items": null,
            "left": null,
            "margin": null,
            "max_height": null,
            "max_width": null,
            "min_height": null,
            "min_width": null,
            "object_fit": null,
            "object_position": null,
            "order": null,
            "overflow": null,
            "overflow_x": null,
            "overflow_y": null,
            "padding": null,
            "right": null,
            "top": null,
            "visibility": null,
            "width": null
          }
        },
        "88151edb53134487b95f6bcbcd7fd2b4": {
          "model_module": "@jupyter-widgets/controls",
          "model_name": "HTMLModel",
          "state": {
            "_dom_classes": [],
            "_model_module": "@jupyter-widgets/controls",
            "_model_module_version": "1.5.0",
            "_model_name": "HTMLModel",
            "_view_count": null,
            "_view_module": "@jupyter-widgets/controls",
            "_view_module_version": "1.5.0",
            "_view_name": "HTMLView",
            "description": "",
            "description_tooltip": null,
            "layout": "IPY_MODEL_005a499c40bd407ca20c2492d9c4f170",
            "placeholder": "​",
            "style": "IPY_MODEL_c279f9a0a0fe498b9db167a237517e6e",
            "value": " 128/128 [03:03&lt;00:00,  1.44s/it]"
          }
        },
        "9b185906b1dc465e93b9f058a1fec47a": {
          "model_module": "@jupyter-widgets/controls",
          "model_name": "ProgressStyleModel",
          "state": {
            "_model_module": "@jupyter-widgets/controls",
            "_model_module_version": "1.5.0",
            "_model_name": "ProgressStyleModel",
            "_view_count": null,
            "_view_module": "@jupyter-widgets/base",
            "_view_module_version": "1.2.0",
            "_view_name": "StyleView",
            "bar_color": null,
            "description_width": "initial"
          }
        },
        "c279f9a0a0fe498b9db167a237517e6e": {
          "model_module": "@jupyter-widgets/controls",
          "model_name": "DescriptionStyleModel",
          "state": {
            "_model_module": "@jupyter-widgets/controls",
            "_model_module_version": "1.5.0",
            "_model_name": "DescriptionStyleModel",
            "_view_count": null,
            "_view_module": "@jupyter-widgets/base",
            "_view_module_version": "1.2.0",
            "_view_name": "StyleView",
            "description_width": ""
          }
        }
      }
    }
  },
  "nbformat": 4,
  "nbformat_minor": 0
}
